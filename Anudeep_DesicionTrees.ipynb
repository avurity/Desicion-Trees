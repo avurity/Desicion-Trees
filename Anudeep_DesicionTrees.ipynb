{
 "cells": [
  {
   "cell_type": "code",
   "execution_count": 1,
   "metadata": {},
   "outputs": [],
   "source": [
    "import numpy as np # linear algebra\n",
    "import pandas as pd # data processing, CSV file I/O (e.g. pd.read_csv)\n",
    "import matplotlib.pyplot as plt\n",
    "from sklearn.tree import DecisionTreeClassifier\n",
    "from sklearn.ensemble import RandomForestClassifier\n",
    "from sklearn.neural_network import MLPClassifier\n",
    "from sklearn.metrics import accuracy_score\n",
    "from sklearn.metrics import confusion_matrix\n",
    "from sklearn.linear_model import LogisticRegression\n",
    "from sklearn.model_selection import GridSearchCV\n",
    "from sklearn.ensemble import GradientBoostingClassifier\n",
    "from sklearn.ensemble import AdaBoostClassifier\n",
    "\n",
    "data_train = pd.read_csv('data/train.csv', dtype=int) # read train data\n",
    "data_test = pd.read_csv('data/test.csv', dtype=int) # read test data\n"
   ]
  },
  {
   "cell_type": "markdown",
   "metadata": {},
   "source": [
    "##### How many images are in the data set? What is the dimension of the feature vector and what are the features?\n",
    "\n",
    "Ans: There are 60000 images in training dataset and 10000 images in test dataset. But there are only 10 varities of images that are in label coloumn in this dataset. There are 784 pixcels which represents one image. The Xtrain features dimension is 60000 X 784. Where as X_test feature dimension is 10000 X 784.The features are Pixels in the dataset."
   ]
  },
  {
   "cell_type": "code",
   "execution_count": 2,
   "metadata": {},
   "outputs": [
    {
     "data": {
      "text/html": [
       "<div>\n",
       "<style scoped>\n",
       "    .dataframe tbody tr th:only-of-type {\n",
       "        vertical-align: middle;\n",
       "    }\n",
       "\n",
       "    .dataframe tbody tr th {\n",
       "        vertical-align: top;\n",
       "    }\n",
       "\n",
       "    .dataframe thead th {\n",
       "        text-align: right;\n",
       "    }\n",
       "</style>\n",
       "<table border=\"1\" class=\"dataframe\">\n",
       "  <thead>\n",
       "    <tr style=\"text-align: right;\">\n",
       "      <th></th>\n",
       "      <th>label</th>\n",
       "      <th>pixel1</th>\n",
       "      <th>pixel2</th>\n",
       "      <th>pixel3</th>\n",
       "      <th>pixel4</th>\n",
       "      <th>pixel5</th>\n",
       "      <th>pixel6</th>\n",
       "      <th>pixel7</th>\n",
       "      <th>pixel8</th>\n",
       "      <th>pixel9</th>\n",
       "      <th>...</th>\n",
       "      <th>pixel775</th>\n",
       "      <th>pixel776</th>\n",
       "      <th>pixel777</th>\n",
       "      <th>pixel778</th>\n",
       "      <th>pixel779</th>\n",
       "      <th>pixel780</th>\n",
       "      <th>pixel781</th>\n",
       "      <th>pixel782</th>\n",
       "      <th>pixel783</th>\n",
       "      <th>pixel784</th>\n",
       "    </tr>\n",
       "  </thead>\n",
       "  <tbody>\n",
       "    <tr>\n",
       "      <td>0</td>\n",
       "      <td>0</td>\n",
       "      <td>0</td>\n",
       "      <td>0</td>\n",
       "      <td>0</td>\n",
       "      <td>0</td>\n",
       "      <td>0</td>\n",
       "      <td>0</td>\n",
       "      <td>0</td>\n",
       "      <td>9</td>\n",
       "      <td>8</td>\n",
       "      <td>...</td>\n",
       "      <td>103</td>\n",
       "      <td>87</td>\n",
       "      <td>56</td>\n",
       "      <td>0</td>\n",
       "      <td>0</td>\n",
       "      <td>0</td>\n",
       "      <td>0</td>\n",
       "      <td>0</td>\n",
       "      <td>0</td>\n",
       "      <td>0</td>\n",
       "    </tr>\n",
       "    <tr>\n",
       "      <td>1</td>\n",
       "      <td>1</td>\n",
       "      <td>0</td>\n",
       "      <td>0</td>\n",
       "      <td>0</td>\n",
       "      <td>0</td>\n",
       "      <td>0</td>\n",
       "      <td>0</td>\n",
       "      <td>0</td>\n",
       "      <td>0</td>\n",
       "      <td>0</td>\n",
       "      <td>...</td>\n",
       "      <td>34</td>\n",
       "      <td>0</td>\n",
       "      <td>0</td>\n",
       "      <td>0</td>\n",
       "      <td>0</td>\n",
       "      <td>0</td>\n",
       "      <td>0</td>\n",
       "      <td>0</td>\n",
       "      <td>0</td>\n",
       "      <td>0</td>\n",
       "    </tr>\n",
       "    <tr>\n",
       "      <td>2</td>\n",
       "      <td>2</td>\n",
       "      <td>0</td>\n",
       "      <td>0</td>\n",
       "      <td>0</td>\n",
       "      <td>0</td>\n",
       "      <td>0</td>\n",
       "      <td>0</td>\n",
       "      <td>14</td>\n",
       "      <td>53</td>\n",
       "      <td>99</td>\n",
       "      <td>...</td>\n",
       "      <td>0</td>\n",
       "      <td>0</td>\n",
       "      <td>0</td>\n",
       "      <td>0</td>\n",
       "      <td>63</td>\n",
       "      <td>53</td>\n",
       "      <td>31</td>\n",
       "      <td>0</td>\n",
       "      <td>0</td>\n",
       "      <td>0</td>\n",
       "    </tr>\n",
       "    <tr>\n",
       "      <td>3</td>\n",
       "      <td>2</td>\n",
       "      <td>0</td>\n",
       "      <td>0</td>\n",
       "      <td>0</td>\n",
       "      <td>0</td>\n",
       "      <td>0</td>\n",
       "      <td>0</td>\n",
       "      <td>0</td>\n",
       "      <td>0</td>\n",
       "      <td>0</td>\n",
       "      <td>...</td>\n",
       "      <td>137</td>\n",
       "      <td>126</td>\n",
       "      <td>140</td>\n",
       "      <td>0</td>\n",
       "      <td>133</td>\n",
       "      <td>224</td>\n",
       "      <td>222</td>\n",
       "      <td>56</td>\n",
       "      <td>0</td>\n",
       "      <td>0</td>\n",
       "    </tr>\n",
       "    <tr>\n",
       "      <td>4</td>\n",
       "      <td>3</td>\n",
       "      <td>0</td>\n",
       "      <td>0</td>\n",
       "      <td>0</td>\n",
       "      <td>0</td>\n",
       "      <td>0</td>\n",
       "      <td>0</td>\n",
       "      <td>0</td>\n",
       "      <td>0</td>\n",
       "      <td>0</td>\n",
       "      <td>...</td>\n",
       "      <td>0</td>\n",
       "      <td>0</td>\n",
       "      <td>0</td>\n",
       "      <td>0</td>\n",
       "      <td>0</td>\n",
       "      <td>0</td>\n",
       "      <td>0</td>\n",
       "      <td>0</td>\n",
       "      <td>0</td>\n",
       "      <td>0</td>\n",
       "    </tr>\n",
       "  </tbody>\n",
       "</table>\n",
       "<p>5 rows × 785 columns</p>\n",
       "</div>"
      ],
      "text/plain": [
       "   label  pixel1  pixel2  pixel3  pixel4  pixel5  pixel6  pixel7  pixel8  \\\n",
       "0      0       0       0       0       0       0       0       0       9   \n",
       "1      1       0       0       0       0       0       0       0       0   \n",
       "2      2       0       0       0       0       0       0      14      53   \n",
       "3      2       0       0       0       0       0       0       0       0   \n",
       "4      3       0       0       0       0       0       0       0       0   \n",
       "\n",
       "   pixel9  ...  pixel775  pixel776  pixel777  pixel778  pixel779  pixel780  \\\n",
       "0       8  ...       103        87        56         0         0         0   \n",
       "1       0  ...        34         0         0         0         0         0   \n",
       "2      99  ...         0         0         0         0        63        53   \n",
       "3       0  ...       137       126       140         0       133       224   \n",
       "4       0  ...         0         0         0         0         0         0   \n",
       "\n",
       "   pixel781  pixel782  pixel783  pixel784  \n",
       "0         0         0         0         0  \n",
       "1         0         0         0         0  \n",
       "2        31         0         0         0  \n",
       "3       222        56         0         0  \n",
       "4         0         0         0         0  \n",
       "\n",
       "[5 rows x 785 columns]"
      ]
     },
     "execution_count": 2,
     "metadata": {},
     "output_type": "execute_result"
    }
   ],
   "source": [
    "data_train.head()\n",
    "data_test.head()"
   ]
  },
  {
   "cell_type": "code",
   "execution_count": 3,
   "metadata": {},
   "outputs": [],
   "source": [
    "def get_data_labels(labels):\n",
    "    text_labels=['t-shirt','trouser','pullover','dress','coat','sandal','shirt','sneaker','bag','ankle boot']\n",
    "    return [text_labels[int(i)] for i in labels]"
   ]
  },
  {
   "cell_type": "markdown",
   "metadata": {},
   "source": [
    "###### (b) Before it is possible to design a classifer, it is necessary to divide the data into label and feature sets. This may be done with the following code:"
   ]
  },
  {
   "cell_type": "code",
   "execution_count": 4,
   "metadata": {},
   "outputs": [
    {
     "name": "stdout",
     "output_type": "stream",
     "text": [
      "(60000, 784)\n",
      "(10000, 784)\n"
     ]
    }
   ],
   "source": [
    "X_train = data_train.iloc[:,0:784].values\n",
    "y_train = data_train.iloc[:, 0].values\n",
    "X_test = data_test.iloc[:, 0:784].values\n",
    "y_test = data_test.iloc[:, 0].values\n",
    "print(X_train.shape); print(X_test.shape)"
   ]
  },
  {
   "cell_type": "code",
   "execution_count": 5,
   "metadata": {},
   "outputs": [
    {
     "data": {
      "image/png": "[encoded data removed]",
      "text/plain": [
       "<Figure size 432x288 with 1 Axes>"
      ]
     },
     "metadata": {
      "needs_background": "light"
     },
     "output_type": "display_data"
    },
    {
     "name": "stdout",
     "output_type": "stream",
     "text": [
      "Label  9\n"
     ]
    }
   ],
   "source": [
    "X_train = data_train.drop('label', axis=1)\n",
    "y_train = data_train['label']\n",
    "X_test = data_test.drop('label', axis=1)\n",
    "y_test = data_test['label']\n",
    "plt.imshow(X_train.iloc[1,:].values.reshape([28,28])) \n",
    "plt.show()\n",
    "print('Label ',y_train[1])"
   ]
  },
  {
   "cell_type": "markdown",
   "metadata": {},
   "source": [
    "###### 2(a) Design a deep decision tree classifer using the test data X_test and y_test. Begin by using the default values for all hyper parameters as follows:"
   ]
  },
  {
   "cell_type": "code",
   "execution_count": 8,
   "metadata": {},
   "outputs": [],
   "source": [
    "Tree_model = DecisionTreeClassifier()\n",
    "x=Tree_model.fit(X_train,y_train)"
   ]
  },
  {
   "cell_type": "markdown",
   "metadata": {},
   "source": [
    "###### b) Determine the accuracy of your model on the training data.\n",
    "Evaluate the training accuracy. the accuracy is one. This gives an idea that our model overfitted. Lets us evaluate in detail using confusion matrix for more details."
   ]
  },
  {
   "cell_type": "code",
   "execution_count": 11,
   "metadata": {},
   "outputs": [
    {
     "name": "stdout",
     "output_type": "stream",
     "text": [
      "Training accuracy =  1.0\n"
     ]
    }
   ],
   "source": [
    "Tree_model_accuracy = (x.predict(X_train) == y_train).mean()\n",
    "print('Training accuracy = ',Tree_model_accuracy)"
   ]
  },
  {
   "cell_type": "markdown",
   "metadata": {},
   "source": [
    "Model accuracy can be estimated by using confusion matirx.\n",
    "Ans: This confusion matrix looks perfect, since most images are on the main diagonal, which means that they were classified absolutely correct. That means there are overfitting."
   ]
  },
  {
   "cell_type": "code",
   "execution_count": 9,
   "metadata": {},
   "outputs": [
    {
     "name": "stdout",
     "output_type": "stream",
     "text": [
      "[[6000    0    0    0    0    0    0    0    0    0]\n",
      " [   0 6000    0    0    0    0    0    0    0    0]\n",
      " [   0    0 6000    0    0    0    0    0    0    0]\n",
      " [   0    0    0 6000    0    0    0    0    0    0]\n",
      " [   0    0    0    0 6000    0    0    0    0    0]\n",
      " [   0    0    0    0    0 6000    0    0    0    0]\n",
      " [   0    0    0    0    0    0 6000    0    0    0]\n",
      " [   0    0    0    0    0    0    0 6000    0    0]\n",
      " [   0    0    0    0    0    0    0    0 6000    0]\n",
      " [   0    0    0    0    0    0    0    0    0 6000]]\n"
     ]
    },
    {
     "data": {
      "image/png": "[encoded data removed]",
      "text/plain": [
       "<Figure size 288x288 with 1 Axes>"
      ]
     },
     "metadata": {
      "needs_background": "light"
     },
     "output_type": "display_data"
    }
   ],
   "source": [
    "conf_mx= confusion_matrix(Tree_model.predict(X_train),y_train)\n",
    "plt.matshow(conf_mx, cmap=plt.cm.gray)\n",
    "print(conf_mx)\n",
    "plt.show()"
   ]
  },
  {
   "cell_type": "markdown",
   "metadata": {},
   "source": [
    "##### 2(c) Cross Validation \n",
    "Does it appear that your decision tree is either underfitting or overfitting the data?Explain.\n",
    "\n",
    "ans: The decesion Tree is right now Overfitting. The mean accuracy tell that my model for this data has poor performance this is because we did not set any limit to the growth of the of the decision tree."
   ]
  },
  {
   "cell_type": "code",
   "execution_count": 12,
   "metadata": {},
   "outputs": [],
   "source": [
    "from sklearn.model_selection import cross_val_score\n",
    "all_accuracies = cross_val_score(estimator=x, X=X_train, y=y_train, cv=5) "
   ]
  },
  {
   "cell_type": "code",
   "execution_count": 13,
   "metadata": {},
   "outputs": [
    {
     "name": "stdout",
     "output_type": "stream",
     "text": [
      "[0.78858333 0.79125    0.7925     0.7985     0.79008333]\n",
      "0.7921833333333334\n"
     ]
    }
   ],
   "source": [
    "print(all_accuracies)\n",
    "print(all_accuracies.mean())"
   ]
  },
  {
   "cell_type": "markdown",
   "metadata": {},
   "source": [
    "##### 2(d) Repeat part (a) and remodel the classifier using growth limit.\n",
    "Minimum sample leaf = 5 and max depth of 12 was set. The accuracy was around 87%.After looking at the new training accuracy, we can say that the model is now not overfitting like before. Event though the model is not the best, we managed to remove the overfitting by limiting the growth of the decision tree."
   ]
  },
  {
   "cell_type": "code",
   "execution_count": 90,
   "metadata": {},
   "outputs": [
    {
     "name": "stdout",
     "output_type": "stream",
     "text": [
      "Training accuracy =  0.8759833333333333\n",
      "[0.81375    0.81025    0.81841667 0.81666667 0.81283333]\n",
      "0.8143833333333333\n"
     ]
    }
   ],
   "source": [
    "Tree_models = DecisionTreeClassifier(min_samples_leaf=5,max_depth=12).fit(X_train,y_train)\n",
    "Tree_models_accuracy = (Tree_models.predict(X_train) == y_train).mean()\n",
    "print('Training accuracy = ',Tree_models_accuracy)\n",
    "all_accuracies1 = cross_val_score(estimator=Tree_model, X=X_train, y=y_train, cv=5)\n",
    "\n",
    "print(all_accuracies1)\n",
    "print(all_accuracies1.mean())\n"
   ]
  },
  {
   "cell_type": "markdown",
   "metadata": {},
   "source": [
    "##### 2(e) This is a Confusion matrix with Little variation in the image. \n",
    "This says that even though we have introduced the growth limiters we are still facing a problem in the performance.Instead of randomly selecting the values of the parameters, a better approach would be to use a procedure that automatically finds the best parameters for a particular model."
   ]
  },
  {
   "cell_type": "code",
   "execution_count": 15,
   "metadata": {},
   "outputs": [
    {
     "name": "stdout",
     "output_type": "stream",
     "text": [
      "[[5361   41   69  229   29    6  752    7   34   12]\n",
      " [   6 5750    6   27   12    1    5    0   10    1]\n",
      " [  67   16 4673   70  576    3  597    0   39    7]\n",
      " [ 127  137   46 5367  268   10  119    0   34    3]\n",
      " [  45   16  803  176 4781    1  591    0   52    2]\n",
      " [   7    7    5    4    4 5682    8   85   18   43]\n",
      " [ 365   25  371  113  311    7 3878    0   69    8]\n",
      " [   3    2    1    0    0  211    1 5756   20  318]\n",
      " [  18    5   24   11   19   30   46   15 5717   12]\n",
      " [   1    1    2    3    0   49    3  137    7 5594]]\n"
     ]
    },
    {
     "data": {
      "image/png": "[encoded data removed]",
      "text/plain": [
       "<Figure size 288x288 with 1 Axes>"
      ]
     },
     "metadata": {
      "needs_background": "light"
     },
     "output_type": "display_data"
    }
   ],
   "source": [
    "conf_mx= confusion_matrix(Tree_model.predict(X_train),y_train)\n",
    "plt.matshow(conf_mx, cmap=plt.cm.gray)\n",
    "print(conf_mx)\n",
    "plt.show()"
   ]
  },
  {
   "cell_type": "markdown",
   "metadata": {},
   "source": [
    "#### If we look at the image we can notice that few diagonals are grey in color and also sqaures like (2,4),(4,2),(4,6),(2,6) and (0,6) are confused."
   ]
  },
  {
   "cell_type": "markdown",
   "metadata": {},
   "source": [
    "###### 2(f) The Grid Search shows that Best criterian is entropy with max depth of 15 and mid sample leaf of 20."
   ]
  },
  {
   "cell_type": "code",
   "execution_count": 17,
   "metadata": {},
   "outputs": [
    {
     "name": "stdout",
     "output_type": "stream",
     "text": [
      "{'criterion': 'entropy', 'max_depth': 15, 'min_samples_leaf': 20}\n",
      "0.8149666666666666\n"
     ]
    }
   ],
   "source": [
    "grid_param = { 'min_samples_leaf':[5, 10, 15, 20], 'max_depth':[5, 10, 15, 20], \n",
    "              'criterion': ['gini', 'entropy'] }\n",
    "gd_sr = GridSearchCV(estimator=Tree_model, param_grid=grid_param, scoring='accuracy', cv=5, n_jobs=-1)\n",
    "gd_sr.fit(X_train, y_train)\n",
    "best_parameters = gd_sr.best_params_\n",
    "print(best_parameters)\n",
    "best_result = gd_sr.best_score_\n",
    "print(best_result)"
   ]
  },
  {
   "cell_type": "markdown",
   "metadata": {},
   "source": [
    "##### 3(a): Use AdaBoostClassifier to design a strong classifier using the training data (X_train,y_train) created in part (a). Use a decision stump as the base classifier, and set n_estimators=300.\n",
    "It is clear that the desicion stumps training accuracy is less than 50%"
   ]
  },
  {
   "cell_type": "code",
   "execution_count": 18,
   "metadata": {},
   "outputs": [
    {
     "data": {
      "text/plain": [
       "AdaBoostClassifier(algorithm='SAMME.R', base_estimator=None, learning_rate=1.0,\n",
       "                   n_estimators=10, random_state=None)"
      ]
     },
     "execution_count": 18,
     "metadata": {},
     "output_type": "execute_result"
    }
   ],
   "source": [
    "ada_clf = AdaBoostClassifier(n_estimators=300)\n",
    "ada_clf.fit(X_train, y_train)"
   ]
  },
  {
   "cell_type": "markdown",
   "metadata": {},
   "source": [
    "##### 3(b) Determine the accuracy of your model on the training data and estimate the expected error using cross-validation.\n",
    "ans= the cross validation error is around 60%"
   ]
  },
  {
   "cell_type": "code",
   "execution_count": 20,
   "metadata": {},
   "outputs": [
    {
     "name": "stdout",
     "output_type": "stream",
     "text": [
      "Training accuracy =  0.4201\n",
      "[0.41875    0.43483333 0.47791667 0.41808333 0.39991667]\n"
     ]
    }
   ],
   "source": [
    "ada_clf_accuracy = (ada_clf.predict(X_train) == y_train).mean()\n",
    "print('Training accuracy = ',ada_clf_accuracy)\n",
    "\n",
    "all_accuracies = cross_val_score(estimator=ada_clf, X=X_train, y=y_train, cv=5)\n",
    "print(all_accuracies)\n"
   ]
  },
  {
   "cell_type": "markdown",
   "metadata": {},
   "source": [
    "###### 3(c) Use the grid search algorithm to determine the best number of estimators to use, and plot the validation error as a function of the number of estimators."
   ]
  },
  {
   "cell_type": "code",
   "execution_count": 27,
   "metadata": {},
   "outputs": [],
   "source": [
    "param_grid = {\"base_estimator__criterion\" : [\"gini\", \"entropy\"],\n",
    "                            \"n_estimators\": [50,100,200]}\n",
    "\n",
    "tree_model = DecisionTreeClassifier(max_depth = 1, class_weight = \"balanced\")\n",
    "\n",
    "ada_clf = AdaBoostClassifier(base_estimator = tree_model)\n",
    "\n",
    "# run grid search\n",
    "gd_sr_ada = GridSearchCV(ada_clf, param_grid=param_grid, scoring = 'accuracy',cv=5, n_jobs=-1)\n",
    "\n"
   ]
  },
  {
   "cell_type": "markdown",
   "metadata": {},
   "source": [
    "GridSearchCV(cv=5, error_score='raise-deprecating',\n",
    "             estimator=AdaBoostClassifier(algorithm='SAMME.R',\n",
    "                                          base_estimator=DecisionTreeClassifier(class_weight='balanced',\n",
    "                                                                                criterion='gini',\n",
    "                                                                                max_depth=1,\n",
    "                                                                                max_features=None,\n",
    "                                                                                max_leaf_nodes=None,\n",
    "                                                                                min_impurity_decrease=0.0,\n",
    "                                                                                min_impurity_split=None,\n",
    "                                                                                min_samples_leaf=1,\n",
    "                                                                                min_samples_split=2,\n",
    "                                                                                min_weight_fraction_leaf=0.0,\n",
    "                                                                                presort=False,\n",
    "                                                                                random_state=None,\n",
    "                                                                                splitter='best'),\n",
    "                                          learning_rate=1.0, n_estimators=50,\n",
    "                                          random_state=None),\n",
    "             iid='warn', n_jobs=-1,\n",
    "             param_grid={'base_estimator__criterion': ['gini', 'entropy'],\n",
    "                         'n_estimators': [50,100,200]},\n",
    "             pre_dispatch='2*n_jobs', refit=True, return_train_score=False,\n",
    "             scoring='accuracy', verbose=0)"
   ]
  },
  {
   "cell_type": "code",
   "execution_count": null,
   "metadata": {},
   "outputs": [],
   "source": [
    "gd_sr_ada.fit(X_train, y_train)\n",
    "best_parameters = gd_sr_ada.best_params_\n",
    "print(best_parameters)\n",
    "best_result = gd_sr_ada.best_score_\n",
    "print(best_result)"
   ]
  },
  {
   "cell_type": "markdown",
   "metadata": {},
   "source": [
    "###### The result after running the above code\n",
    "{'base_estimator__criterion': 'entropy', 'base_estimator__splitter': 'best', 'n_estimators': 200}"
   ]
  },
  {
   "cell_type": "markdown",
   "metadata": {},
   "source": [
    "###### 3(d)Analyze and comment on your results. How do your results change if you were to use a decision tree with a maximum depth of two instead of one as you have with a decision Stump classifier?"
   ]
  },
  {
   "cell_type": "code",
   "execution_count": 29,
   "metadata": {},
   "outputs": [
    {
     "name": "stdout",
     "output_type": "stream",
     "text": [
      "Training accuracy =  0.6051666666666666\n"
     ]
    }
   ],
   "source": [
    "ada_clf = AdaBoostClassifier(DecisionTreeClassifier(max_depth=2), n_estimators=200,\n",
    "algorithm=\"SAMME.R\")\n",
    "ada_clf.fit(X_train, y_train)\n",
    "ada_clf_accuracy = (ada_clf.predict(X_train) == y_train).mean()\n",
    "print('Training accuracy = ',ada_clf_accuracy)"
   ]
  },
  {
   "cell_type": "markdown",
   "metadata": {},
   "source": [
    "#####  4(a) Use RandomForestClassifier to design a strong classifier using the data (X_train,y_train) created in the boosting exercise."
   ]
  },
  {
   "cell_type": "code",
   "execution_count": null,
   "metadata": {},
   "outputs": [],
   "source": [
    "rnd_clf = RandomForestClassifier(n_estimators=100, max_depth=2, n_jobs=-1, oob_score=True)\n",
    "rnd_clf.fit(X_train, y_train)\n",
    "\n",
    "grid_param = { 'min_samples_leaf':[5, 10, 15, 20], 'max_depth':[5, 10, 15, 20], \n",
    "              'criterion': ['gini', 'entropy'] }\n",
    "gd_sr = GridSearchCV(estimator= rnd_clf, param_grid=grid_param, scoring='accuracy', cv=5, n_jobs=-1)\n",
    "gd_sr.fit(X_train, y_train)\n",
    "best_parameters = gd_sr.best_params_\n",
    "print(best_parameters)\n",
    "best_result = gd_sr.best_score_\n",
    "print(best_result)"
   ]
  },
  {
   "cell_type": "markdown",
   "metadata": {},
   "source": [
    "{'max_depth': 20, 'min_samples_leaf': 10}\n",
    "\n",
    "0.8735333333333334"
   ]
  },
  {
   "cell_type": "markdown",
   "metadata": {},
   "source": [
    "OOB score when number of trees is 100"
   ]
  },
  {
   "cell_type": "code",
   "execution_count": 57,
   "metadata": {},
   "outputs": [
    {
     "name": "stdout",
     "output_type": "stream",
     "text": [
      "out of Bag score 0.5678\n",
      "Training accuracy =  0.572\n"
     ]
    }
   ],
   "source": [
    "rnd_clf = RandomForestClassifier(n_estimators=100, max_depth=2, n_jobs=-1, oob_score=True)\n",
    "rnd_clf.fit(X_train, y_train)\n",
    "print(\"out of Bag score\",rnd_clf.oob_score_)\n",
    "rnd_clf_accuracy = (rnd_clf.predict(X_train) == y_train).mean()\n",
    "print('Training accuracy = ',rnd_clf_accuracy)\n"
   ]
  },
  {
   "cell_type": "markdown",
   "metadata": {},
   "source": [
    "OOB score when number of tree is 200"
   ]
  },
  {
   "cell_type": "code",
   "execution_count": 58,
   "metadata": {},
   "outputs": [
    {
     "name": "stdout",
     "output_type": "stream",
     "text": [
      "out of Bag score 0.6103\n",
      "Training accuracy =  0.62165\n"
     ]
    }
   ],
   "source": [
    "rnd_clf = RandomForestClassifier(n_estimators=200, max_depth=2, n_jobs=-1, oob_score=True)\n",
    "rnd_clf.fit(X_train, y_train)\n",
    "print(\"out of Bag score\",rnd_clf.oob_score_)\n",
    "rnd_clf_accuracy = (rnd_clf.predict(X_train) == y_train).mean()\n",
    "print('Training accuracy = ',rnd_clf_accuracy)"
   ]
  },
  {
   "cell_type": "markdown",
   "metadata": {},
   "source": [
    "OOB score when number of tree is 300"
   ]
  },
  {
   "cell_type": "code",
   "execution_count": 59,
   "metadata": {},
   "outputs": [
    {
     "name": "stdout",
     "output_type": "stream",
     "text": [
      "out of Bag score 0.605\n",
      "Training accuracy =  0.6143833333333333\n"
     ]
    }
   ],
   "source": [
    "rnd_clf = RandomForestClassifier(n_estimators=300, max_depth=2, n_jobs=-1, oob_score=True)\n",
    "rnd_clf.fit(X_train, y_train)\n",
    "print(\"out of Bag score\",rnd_clf.oob_score_)\n",
    "rnd_clf_accuracy = (rnd_clf.predict(X_train) == y_train).mean()\n",
    "print('Training accuracy = ',rnd_clf_accuracy)"
   ]
  },
  {
   "cell_type": "markdown",
   "metadata": {},
   "source": [
    "OOB score when number of tree is 500"
   ]
  },
  {
   "cell_type": "code",
   "execution_count": 60,
   "metadata": {},
   "outputs": [
    {
     "name": "stdout",
     "output_type": "stream",
     "text": [
      "out of Bag score 0.6116\n",
      "Training accuracy =  0.6205666666666667\n"
     ]
    }
   ],
   "source": [
    "rnd_clf = RandomForestClassifier(n_estimators=500, max_depth=2, n_jobs=-1, oob_score=True)\n",
    "rnd_clf.fit(X_train, y_train)\n",
    "print(\"out of Bag score\",rnd_clf.oob_score_)\n",
    "rnd_clf_accuracy = (rnd_clf.predict(X_train) == y_train).mean()\n",
    "print('Training accuracy = ',rnd_clf_accuracy)"
   ]
  },
  {
   "cell_type": "markdown",
   "metadata": {},
   "source": [
    "##### For modeling purpose max_depth with right value is choosen"
   ]
  },
  {
   "cell_type": "code",
   "execution_count": 92,
   "metadata": {},
   "outputs": [
    {
     "name": "stdout",
     "output_type": "stream",
     "text": [
      "out of Bag score 0.8809833333333333\n",
      "Training accuracy =  0.9933\n"
     ]
    }
   ],
   "source": [
    "rnd_clf = RandomForestClassifier(n_estimators=200, max_depth=20, n_jobs=-1, oob_score=True)\n",
    "rnd_clf.fit(X_train, y_train)\n",
    "print(\"out of Bag score\",rnd_clf.oob_score_)\n",
    "rnd_clf_accuracy = (rnd_clf.predict(X_train) == y_train).mean()\n",
    "print('Training accuracy = ',rnd_clf_accuracy)\n"
   ]
  },
  {
   "cell_type": "markdown",
   "metadata": {},
   "source": [
    "###### 4(b)Investigate the effect of the number of trees and the number of features used in the design of each tree on the performance of your classifier. Describe/document what you find.\n",
    "\n",
    "Ans:The OOB score is computed as the number of correctly predicted rows from the out of bag sample. So the score shows 59% of used data from the unusead data. Therefore we can say that only 59 Percent of features were used to design the performance of the model.From the results above we can say that as number of trees increases the OOB value increases. This means that when we increase the number of trees the selection of features is increasing respectively. \n",
    "###### At n_estimators = 100 we got oob as 59.60% and performance was 59.62%\n",
    "###### At n_estimators = 200 we got oob as 59.62% and performance was 59.62%\n",
    "###### At n_estimators = 300 we got oob as 60.28% and performance was 61.05%\n",
    "###### At n_estimators = 500 we got oob as 60.85% and performance  was 61.5%\n",
    "These results prove there will be an effect on performance of the model when trees and Features used in the design cahnges!\n",
    "\n",
    "#### Note: I choose hyper parameter max_depth= 2 for significant change in the values. The max_depth=15 is choosen in the end for model develpoment\n"
   ]
  },
  {
   "cell_type": "markdown",
   "metadata": {},
   "source": [
    "###### 5(a)  Repeat parts (a) and (b) in the random forest exercise above."
   ]
  },
  {
   "cell_type": "code",
   "execution_count": 44,
   "metadata": {},
   "outputs": [
    {
     "name": "stdout",
     "output_type": "stream",
     "text": [
      "out of Bag score 0.8318666666666666\n",
      "Training accuracy =  0.8590666666666666\n"
     ]
    }
   ],
   "source": [
    "from sklearn.ensemble import ExtraTreesClassifier\n",
    "#\n",
    "et_clf = ExtraTreesClassifier(n_estimators=100, max_depth=10,\n",
    "min_samples_split=2,bootstrap= True, n_jobs=-1,oob_score=True)\n",
    "et_clf.fit(X_train, y_train)\n",
    "print(\"out of Bag score\",et_clf.oob_score_)\n",
    "et_clf_accuracy = (et_clf.predict(X_train) == y_train).mean()\n",
    "print('Training accuracy = ',et_clf_accuracy)\n"
   ]
  },
  {
   "cell_type": "code",
   "execution_count": 45,
   "metadata": {},
   "outputs": [
    {
     "name": "stdout",
     "output_type": "stream",
     "text": [
      "{'criterion': 'entropy', 'max_depth': 20, 'min_samples_leaf': 5}\n",
      "0.8651166666666666\n"
     ]
    }
   ],
   "source": [
    "grid_param = { 'min_samples_leaf':[5, 10, 15, 20], 'max_depth':[5, 10, 15, 20], \n",
    "              'criterion': ['gini', 'entropy'] }\n",
    "gd_sr = GridSearchCV(estimator=et_clf, param_grid=grid_param, scoring='accuracy', cv=5, n_jobs=-1)\n",
    "gd_sr.fit(X_train, y_train)\n",
    "best_parameters = gd_sr.best _params_\n",
    "print(best_parameters)\n",
    "best_result = gd_sr.best_score_\n",
    "print(best_result)"
   ]
  },
  {
   "cell_type": "markdown",
   "metadata": {},
   "source": [
    "Let us adjust the max depth and min sample leaf and run the model with various estimators and see the performances."
   ]
  },
  {
   "cell_type": "markdown",
   "metadata": {},
   "source": [
    "OOB score when number of tree is 100"
   ]
  },
  {
   "cell_type": "code",
   "execution_count": 62,
   "metadata": {},
   "outputs": [
    {
     "name": "stdout",
     "output_type": "stream",
     "text": [
      "out of Bag score 0.56025\n",
      "Training accuracy =  0.5639666666666666\n"
     ]
    }
   ],
   "source": [
    "et_clf = ExtraTreesClassifier(n_estimators=100, max_depth=2,\n",
    "min_samples_split=2, min_samples_leaf= 5, bootstrap= True, n_jobs=-1,oob_score=True)\n",
    "et_clf.fit(X_train, y_train)\n",
    "print(\"out of Bag score\",et_clf.oob_score_)\n",
    "et_clf_accuracy = (et_clf.predict(X_train) == y_train).mean()\n",
    "print('Training accuracy = ',et_clf_accuracy)"
   ]
  },
  {
   "cell_type": "markdown",
   "metadata": {},
   "source": [
    "OOB score when number of tree is 300"
   ]
  },
  {
   "cell_type": "code",
   "execution_count": 63,
   "metadata": {},
   "outputs": [
    {
     "name": "stdout",
     "output_type": "stream",
     "text": [
      "out of Bag score 0.5827\n",
      "Training accuracy =  0.5860333333333333\n"
     ]
    }
   ],
   "source": [
    "et_clf = ExtraTreesClassifier(n_estimators=300, max_depth=2,\n",
    "min_samples_split=2, min_samples_leaf= 5, bootstrap= True, n_jobs=-1,oob_score=True)\n",
    "et_clf.fit(X_train, y_train)\n",
    "print(\"out of Bag score\",et_clf.oob_score_)\n",
    "et_clf_accuracy = (et_clf.predict(X_train) == y_train).mean()\n",
    "print('Training accuracy = ',et_clf_accuracy)"
   ]
  },
  {
   "cell_type": "markdown",
   "metadata": {},
   "source": [
    "The values above are choosen for understanding the estimator importance. For calucucation purpose the we choose the estimator=200 and max depth=20, sampe leaf=5"
   ]
  },
  {
   "cell_type": "code",
   "execution_count": 65,
   "metadata": {},
   "outputs": [
    {
     "name": "stdout",
     "output_type": "stream",
     "text": [
      "out of Bag score 0.8662166666666666\n",
      "Training accuracy =  0.9369666666666666\n"
     ]
    }
   ],
   "source": [
    "et_clf = ExtraTreesClassifier(n_estimators=200, max_depth=20,\n",
    "min_samples_split=2, min_samples_leaf= 5, bootstrap= True, n_jobs=-1,oob_score=True)\n",
    "et_clf.fit(X_train, y_train)\n",
    "print(\"out of Bag score\",et_clf.oob_score_)\n",
    "et_clf_accuracy = (et_clf.predict(X_train) == y_train).mean()\n",
    "print('Training accuracy = ',et_clf_accuracy)"
   ]
  },
  {
   "cell_type": "markdown",
   "metadata": {},
   "source": [
    "###### 5(b)Investigate the effect of the number of trees and the number of features used in the design of each tree on the performance of your classifier. Describe/document what you find.\n",
    "\n",
    "Ans:Similar to the above conclusion, we got the same results proving that  the performance of the model is effected by features and trees.\n",
    "\n",
    "hese results prove there will be an effect on performance of the model when trees and Features used in the design cahnges!\n"
   ]
  },
  {
   "cell_type": "markdown",
   "metadata": {},
   "source": [
    "#### Gradient Boosting\n",
    "Let us first find the best learning rate to handle our data.  We can explaint that our performance is getting better every time with a new classifier. "
   ]
  },
  {
   "cell_type": "code",
   "execution_count": null,
   "metadata": {},
   "outputs": [],
   "source": [
    "from sklearn.ensemble import GradientBoostingClassifier\n",
    "#\n",
    "gb_clf = GradientBoostingClassifier(n_estimators=100, learning_rate=0.2,\n",
    "                                    max_depth=1, random_state=0)\n",
    "gb_clf.fit(X_train, y_train)\n",
    "print(\"Accuracy on training set: {:.3f}\".format(gb_clf.score(X_train, y_train)))"
   ]
  },
  {
   "cell_type": "markdown",
   "metadata": {},
   "source": [
    "Accuracy on training set: 0.902"
   ]
  },
  {
   "cell_type": "markdown",
   "metadata": {},
   "source": [
    "###### Final Evaluation\n",
    "Based on the evaluation I believe that these models can be modeled in a much better way with proper tuning of hyper parameters but due to lack for my PC long time consuming performance made me restricted to these results.  The better analyser is gradient boosting with 89% accuracy with the above hyper parameters.\n",
    "###### Learning Rate must be inbetween 0.5 to 0.2 which is the best parameter for gradient boosting. The next best classifier is  random forest and extra tree.\n"
   ]
  },
  {
   "cell_type": "code",
   "execution_count": null,
   "metadata": {},
   "outputs": [],
   "source": [
    "print(\"Accuracy on training set: {:.3f}\".format(gb_clf.score(X_train, y_train)))\n",
    "print(\"Accuracy on test set: {:.3f}\".format(gb_clf.score(X_test, y_test)))"
   ]
  },
  {
   "cell_type": "markdown",
   "metadata": {},
   "source": [
    "Accuracy on training set: 0.902\n",
    "\n",
    "Accuracy on training set: 0.898"
   ]
  },
  {
   "cell_type": "code",
   "execution_count": 71,
   "metadata": {},
   "outputs": [
    {
     "name": "stdout",
     "output_type": "stream",
     "text": [
      "Accuracy on training set: 0.937\n",
      "Accuracy on test set: 0.869\n"
     ]
    }
   ],
   "source": [
    "print(\"Accuracy on training set: {:.3f}\".format(et_clf.score(X_train, y_train)))\n",
    "print(\"Accuracy on test set: {:.3f}\".format(et_clf.score(X_test, y_test)))"
   ]
  },
  {
   "cell_type": "code",
   "execution_count": 93,
   "metadata": {},
   "outputs": [
    {
     "name": "stdout",
     "output_type": "stream",
     "text": [
      "Accuracy on training set: 0.993\n",
      "Accuracy on test set: 0.883\n"
     ]
    }
   ],
   "source": [
    "print(\"Accuracy on training set: {:.3f}\".format(rnd_clf.score(X_train, y_train)))\n",
    "print(\"Accuracy on test set: {:.3f}\".format(rnd_clf.score(X_test, y_test)))"
   ]
  },
  {
   "cell_type": "code",
   "execution_count": 73,
   "metadata": {},
   "outputs": [
    {
     "name": "stdout",
     "output_type": "stream",
     "text": [
      "Accuracy on training set: 0.605\n",
      "Accuracy on test set: 0.603\n"
     ]
    }
   ],
   "source": [
    "print(\"Accuracy on training set: {:.3f}\".format(ada_clf.score(X_train, y_train)))\n",
    "print(\"Accuracy on test set: {:.3f}\".format(ada_clf.score(X_test, y_test)))"
   ]
  },
  {
   "cell_type": "code",
   "execution_count": null,
   "metadata": {},
   "outputs": [],
   "source": []
  }
 ],
 "metadata": {
  "kernelspec": {
   "display_name": "Python 3",
   "language": "python",
   "name": "python3"
  },
  "language_info": {
   "codemirror_mode": {
    "name": "ipython",
    "version": 3
   },
   "file_extension": ".py",
   "mimetype": "text/x-python",
   "name": "python",
   "nbconvert_exporter": "python",
   "pygments_lexer": "ipython3",
   "version": "3.7.3"
  }
 },
 "nbformat": 4,
 "nbformat_minor": 2
}
